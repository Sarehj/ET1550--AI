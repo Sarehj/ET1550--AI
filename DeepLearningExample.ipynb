{
 "cells": [
  {
   "cell_type": "code",
   "execution_count": 1,
   "metadata": {},
   "outputs": [],
   "source": [
    "# Classification Convolutional Neural Networks\n",
    "# Introduction to Machine Learning and Artificial Intelligence (ET1550)\n",
    "# Saleh Javadi\n",
    "# BTH 2023"
   ]
  },
  {
   "cell_type": "code",
   "execution_count": 2,
   "metadata": {},
   "outputs": [],
   "source": [
    "# Import the libraries\n",
    "import os\n",
    "import numpy as np\n",
    "import pandas as pd\n",
    "import matplotlib.pyplot as plt\n",
    "from PIL import Image\n",
    "import tensorflow as tf\n",
    "from tensorflow.keras import layers\n",
    "from tensorflow.keras.utils import to_categorical\n",
    "from tensorflow.keras.layers import Conv2D, Dense, Flatten, MaxPool2D, Dropout"
   ]
  },
  {
   "cell_type": "code",
   "execution_count": 3,
   "metadata": {},
   "outputs": [
    {
     "name": "stdout",
     "output_type": "stream",
     "text": [
      "success\n"
     ]
    }
   ],
   "source": [
    "# Organizing the input data and their corresponding labels\n",
    "imgs_path = \"Traffic_dataset\"\n",
    "X = []\n",
    "y = []\n",
    "classes = 43\n",
    "for i in range(classes):\n",
    "    img_path = os.path.join(imgs_path, str(i)) #0-42\n",
    "    for img in os.listdir(img_path):\n",
    "        im = Image.open(img_path + '/' + img)\n",
    "        im = im.resize((30,30))\n",
    "        im = np.array(im)\n",
    "        X.append(im)\n",
    "        y.append(i)\n",
    "X = np.array(X)\n",
    "y = np.array(y)\n",
    "print(\"success\")"
   ]
  },
  {
   "cell_type": "code",
   "execution_count": 4,
   "metadata": {},
   "outputs": [
    {
     "data": {
      "image/png": "[encoded data removed]",
      "text/plain": [
       "<Figure size 432x288 with 1 Axes>"
      ]
     },
     "metadata": {
      "needs_background": "light"
     },
     "output_type": "display_data"
    }
   ],
   "source": [
    "path = \"Traffic_dataset/25/00025_00000_00029.png\"\n",
    "img = Image.open(path)\n",
    "img = img.resize((30, 30))\n",
    "img = np.array(img) \n",
    "plt.imshow(img)\n",
    "plt.show()"
   ]
  },
  {
   "cell_type": "code",
   "execution_count": 5,
   "metadata": {},
   "outputs": [
    {
     "name": "stdout",
     "output_type": "stream",
     "text": [
      "training shape:  (27446, 30, 30, 3) (27446,)\n",
      "testing shape:  (11763, 30, 30, 3) (11763,)\n"
     ]
    }
   ],
   "source": [
    "# Split data into train and test sets\n",
    "from sklearn.model_selection import train_test_split\n",
    "x_train, x_test, y_train, y_test = train_test_split(X, y, test_size=0.3, random_state=42)\n",
    "print(\"training shape: \",x_train.shape, y_train.shape)\n",
    "print(\"testing shape: \",x_test.shape, y_test.shape)\n",
    "y_train = to_categorical(y_train, 43)\n",
    "y_test = to_categorical(y_test, 43)\n"
   ]
  },
  {
   "cell_type": "code",
   "execution_count": 6,
   "metadata": {},
   "outputs": [],
   "source": [
    "# Build the model\n",
    "model_CNN = tf.keras.Sequential([\n",
    "    layers.Conv2D(filters=32, kernel_size=(5,5), activation=\"relu\", input_shape=x_train.shape[1:]),\n",
    "    layers.Conv2D(filters=32, kernel_size=(5,5), activation=\"relu\"),\n",
    "    layers.MaxPool2D(pool_size=(2,2)),\n",
    "    layers.Dropout(rate=0.25),\n",
    "    layers.Conv2D(filters=64, kernel_size=(3,3), activation=\"relu\"),\n",
    "    layers.Conv2D(filters=64, kernel_size=(3,3), activation=\"relu\"),\n",
    "    layers.MaxPool2D(pool_size=(2,2)),\n",
    "    layers.Dropout(rate=0.25),\n",
    "    layers.Flatten(),\n",
    "    layers.Dense(256, activation='relu'),\n",
    "    layers.Dropout(rate=0.5),\n",
    "    layers.Dense(43, activation='softmax')\n",
    "])"
   ]
  },
  {
   "cell_type": "code",
   "execution_count": 7,
   "metadata": {},
   "outputs": [],
   "source": [
    "# Compile the model\n",
    "model_CNN.compile(optimizer=\"adam\", loss=\"categorical_crossentropy\", metrics=[\"accuracy\"])"
   ]
  },
  {
   "cell_type": "code",
   "execution_count": 8,
   "metadata": {},
   "outputs": [
    {
     "name": "stdout",
     "output_type": "stream",
     "text": [
      "Epoch 1/20\n",
      "429/429 [==============================] - 8s 6ms/step - loss: 2.3278 - accuracy: 0.4358\n",
      "Epoch 2/20\n",
      "429/429 [==============================] - 2s 6ms/step - loss: 0.7566 - accuracy: 0.7832\n",
      "Epoch 3/20\n",
      "429/429 [==============================] - 2s 5ms/step - loss: 0.4446 - accuracy: 0.8761\n",
      "Epoch 4/20\n",
      "429/429 [==============================] - 2s 5ms/step - loss: 0.3126 - accuracy: 0.9128\n",
      "Epoch 5/20\n",
      "429/429 [==============================] - 2s 5ms/step - loss: 0.2682 - accuracy: 0.9261\n",
      "Epoch 6/20\n",
      "429/429 [==============================] - 2s 5ms/step - loss: 0.2365 - accuracy: 0.9330\n",
      "Epoch 7/20\n",
      "429/429 [==============================] - 2s 5ms/step - loss: 0.2035 - accuracy: 0.9439\n",
      "Epoch 8/20\n",
      "429/429 [==============================] - 2s 5ms/step - loss: 0.1903 - accuracy: 0.9468\n",
      "Epoch 9/20\n",
      "429/429 [==============================] - 2s 5ms/step - loss: 0.1826 - accuracy: 0.9489\n",
      "Epoch 10/20\n",
      "429/429 [==============================] - 2s 5ms/step - loss: 0.1521 - accuracy: 0.9575\n",
      "Epoch 11/20\n",
      "429/429 [==============================] - 2s 5ms/step - loss: 0.1583 - accuracy: 0.9558\n",
      "Epoch 12/20\n",
      "429/429 [==============================] - 2s 5ms/step - loss: 0.1458 - accuracy: 0.9593\n",
      "Epoch 13/20\n",
      "429/429 [==============================] - 2s 5ms/step - loss: 0.1623 - accuracy: 0.9543\n",
      "Epoch 14/20\n",
      "429/429 [==============================] - 2s 5ms/step - loss: 0.1555 - accuracy: 0.9570\n",
      "Epoch 15/20\n",
      "429/429 [==============================] - 2s 5ms/step - loss: 0.1441 - accuracy: 0.9611\n",
      "Epoch 16/20\n",
      "429/429 [==============================] - 2s 5ms/step - loss: 0.1486 - accuracy: 0.9617\n",
      "Epoch 17/20\n",
      "429/429 [==============================] - 2s 5ms/step - loss: 0.1417 - accuracy: 0.9636\n",
      "Epoch 18/20\n",
      "429/429 [==============================] - 2s 5ms/step - loss: 0.1260 - accuracy: 0.9672\n",
      "Epoch 19/20\n",
      "429/429 [==============================] - 2s 5ms/step - loss: 0.1375 - accuracy: 0.9640\n",
      "Epoch 20/20\n",
      "429/429 [==============================] - 2s 6ms/step - loss: 0.1323 - accuracy: 0.9680\n"
     ]
    },
    {
     "data": {
      "text/plain": [
       "<keras.callbacks.History at 0x1f4c389afa0>"
      ]
     },
     "execution_count": 8,
     "metadata": {},
     "output_type": "execute_result"
    }
   ],
   "source": [
    "# Fit the model\n",
    "model_CNN.fit(x_train, y_train, epochs=20, batch_size=64)"
   ]
  },
  {
   "cell_type": "code",
   "execution_count": 9,
   "metadata": {},
   "outputs": [
    {
     "name": "stdout",
     "output_type": "stream",
     "text": [
      "368/368 [==============================] - 1s 3ms/step - loss: 0.0289 - accuracy: 0.9924\n",
      "test loss, test acc: [0.028878360986709595, 0.9924339056015015]\n"
     ]
    }
   ],
   "source": [
    "results = model_CNN.evaluate(x_test, y_test)\n",
    "print(\"test loss, test acc:\", results)"
   ]
  },
  {
   "cell_type": "code",
   "execution_count": 10,
   "metadata": {},
   "outputs": [
    {
     "name": "stdout",
     "output_type": "stream",
     "text": [
      "[26 15 13 10 15 12 25  2 11 35]\n"
     ]
    }
   ],
   "source": [
    "predictions = model_CNN.predict(x_test[:10])\n",
    "print(np.argmax(predictions, axis=1))"
   ]
  },
  {
   "cell_type": "code",
   "execution_count": 11,
   "metadata": {},
   "outputs": [
    {
     "name": "stdout",
     "output_type": "stream",
     "text": [
      "[26 15 13 10 15 12 25  2 11 35]\n"
     ]
    }
   ],
   "source": [
    "print(np.argmax(y_test[:10], axis=1))"
   ]
  },
  {
   "cell_type": "code",
   "execution_count": 12,
   "metadata": {},
   "outputs": [
    {
     "data": {
      "image/png": "[encoded data removed]",
      "text/plain": [
       "<Figure size 432x288 with 1 Axes>"
      ]
     },
     "metadata": {
      "needs_background": "light"
     },
     "output_type": "display_data"
    }
   ],
   "source": [
    "plt.imshow(x_test[3])\n",
    "plt.show()"
   ]
  },
  {
   "cell_type": "code",
   "execution_count": 13,
   "metadata": {},
   "outputs": [],
   "source": [
    "classes = { 0:'Speed limit (20km/h)',\n",
    "            1:'Speed limit (30km/h)',\n",
    "            2:'Speed limit (50km/h)',\n",
    "            3:'Speed limit (60km/h)',\n",
    "            4:'Speed limit (70km/h)',\n",
    "            5:'Speed limit (80km/h)',\n",
    "            6:'End of speed limit (80km/h)',\n",
    "            7:'Speed limit (100km/h)',\n",
    "            8:'Speed limit (120km/h)',\n",
    "            9:'No passing',\n",
    "            10:'No passing veh over 3.5 tons',\n",
    "            11:'Right-of-way at intersection',\n",
    "            12:'Priority road',\n",
    "            13:'Yield',\n",
    "            14:'Stop',\n",
    "            15:'No vehicles',\n",
    "            16:'Veh > 3.5 tons prohibited',\n",
    "            17:'No entry',\n",
    "            18:'General caution',\n",
    "            19:'Dangerous curve left',\n",
    "            20:'Dangerous curve right',\n",
    "            21:'Double curve',\n",
    "            22:'Bumpy road',\n",
    "            23:'Slippery road',\n",
    "            24:'Road narrows on the right',\n",
    "            25:'Road work',\n",
    "            26:'Traffic signals',\n",
    "            27:'Pedestrians',\n",
    "            28:'Children crossing',\n",
    "            29:'Bicycles crossing',\n",
    "            30:'Beware of ice/snow',\n",
    "            31:'Wild animals crossing',\n",
    "            32:'End speed + passing limits',\n",
    "            33:'Turn right ahead',\n",
    "            34:'Turn left ahead',\n",
    "            35:'Ahead only',\n",
    "            36:'Go straight or right',\n",
    "            37:'Go straight or left',\n",
    "            38:'Keep right',\n",
    "            39:'Keep left',\n",
    "            40:'Roundabout mandatory',\n",
    "            41:'End of no passing',\n",
    "            42:'End no passing veh > 3.5 tons' }"
   ]
  }
 ],
 "metadata": {
  "kernelspec": {
   "display_name": "Python 3",
   "language": "python",
   "name": "python3"
  },
  "language_info": {
   "codemirror_mode": {
    "name": "ipython",
    "version": 3
   },
   "file_extension": ".py",
   "mimetype": "text/x-python",
   "name": "python",
   "nbconvert_exporter": "python",
   "pygments_lexer": "ipython3",
   "version": "3.9.12"
  },
  "orig_nbformat": 4
 },
 "nbformat": 4,
 "nbformat_minor": 2
}
